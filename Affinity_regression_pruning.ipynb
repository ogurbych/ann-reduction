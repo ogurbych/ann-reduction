{
  "nbformat": 4,
  "nbformat_minor": 0,
  "metadata": {
    "colab": {
      "name": "Affinity_regression_pruning.ipynb",
      "provenance": [],
      "machine_shape": "hm",
      "collapsed_sections": []
    },
    "kernelspec": {
      "name": "python3",
      "display_name": "Python 3"
    },
    "language_info": {
      "name": "python"
    },
    "accelerator": "GPU"
  },
  "cells": [
    {
      "cell_type": "code",
      "execution_count": 1,
      "metadata": {
        "colab": {
          "base_uri": "https://localhost:8080/"
        },
        "id": "EjYZZndhz69v",
        "outputId": "2fa717ad-10bd-4750-f2db-fb1fd16d0ab6"
      },
      "outputs": [
        {
          "output_type": "stream",
          "name": "stdout",
          "text": [
            "Found GPU at: /device:GPU:0\n"
          ]
        }
      ],
      "source": [
        "%tensorflow_version 2.x\n",
        "import tensorflow as tf\n",
        "device_name = tf.test.gpu_device_name()\n",
        "if device_name != '/device:GPU:0':\n",
        "  raise SystemError('GPU device not found')\n",
        "print('Found GPU at: {}'.format(device_name))"
      ]
    },
    {
      "cell_type": "markdown",
      "metadata": {
        "id": "Djk8CySu0yPH"
      },
      "source": [
        "#Import"
      ]
    },
    {
      "cell_type": "code",
      "execution_count": 2,
      "metadata": {
        "id": "0yKr7tDq0AD_"
      },
      "outputs": [],
      "source": [
        "import pandas as pd\n",
        "\n",
        "import numpy as np\n",
        "from numpy.random import seed\n",
        "from math import ceil\n",
        "\n",
        "\n",
        "from sklearn.metrics import explained_variance_score, mean_absolute_error, r2_score, max_error, mean_squared_error, mean_squared_error\n",
        "from sklearn.model_selection import KFold, train_test_split\n",
        "import copy\n",
        "\n",
        "import matplotlib.pyplot as plt\n",
        "import matplotlib.ticker as ticker\n",
        "import seaborn as sns\n",
        "from dataclasses import dataclass\n",
        "from itertools import cycle\n",
        "\n",
        "\n",
        "import tensorflow as tf\n",
        "from tensorflow import keras\n",
        "from tensorflow.keras import backend as K\n",
        "from sklearn.model_selection import KFold\n",
        "from keras.models import Sequential\n",
        "from keras.layers import Dense, InputLayer\n",
        "\n",
        "%matplotlib inline\n",
        "np.seterr(divide='ignore', invalid='ignore')\n",
        "np.warnings.filterwarnings('ignore', category=np.VisibleDeprecationWarning)       \n",
        "pd.set_option('display.float_format', lambda x: '{:.3f}'.format(x))"
      ]
    },
    {
      "cell_type": "code",
      "execution_count": 3,
      "metadata": {
        "id": "IcfM-Yi10GBn"
      },
      "outputs": [],
      "source": [
        "def RMSE(y_true, y_pred):\n",
        "    return K.sqrt(K.mean(K.square(y_pred - y_true))) "
      ]
    },
    {
      "cell_type": "code",
      "execution_count": 4,
      "metadata": {
        "id": "805JiX1F0GTk"
      },
      "outputs": [],
      "source": [
        "class FreezeWeights(keras.callbacks.Callback):\n",
        "  def __init__(self, mask):\n",
        "    super(FreezeWeights, self).__init__()\n",
        "    self.mask = mask\n",
        "\n",
        "  def on_epoch_end(self, epoch, logs=None):\n",
        "    for i in range(len(self.model.layers)):\n",
        "      self.model.layers[i].set_weights([np.multiply(self.model.layers[i].get_weights()[0], self.mask[i]), self.model.layers[i].get_weights()[1]])"
      ]
    },
    {
      "cell_type": "markdown",
      "metadata": {
        "id": "9osuIN4V7n_5"
      },
      "source": [
        "# Import data"
      ]
    },
    {
      "cell_type": "code",
      "execution_count": 5,
      "metadata": {
        "colab": {
          "base_uri": "https://localhost:8080/"
        },
        "id": "SNbpZCCjyLzW",
        "outputId": "a5ce141b-3876-47bb-fc83-09539985350f"
      },
      "outputs": [
        {
          "output_type": "stream",
          "name": "stdout",
          "text": [
            "Mounted at /content/drive/\n"
          ]
        }
      ],
      "source": [
        "from google.colab import drive\n",
        "drive.mount('/content/drive/')"
      ]
    },
    {
      "cell_type": "code",
      "execution_count": 6,
      "metadata": {
        "id": "GU1HEwSu7yuD"
      },
      "outputs": [],
      "source": [
        "df = pd.read_csv('drive/MyDrive/Pruning/data/reg_dataset_ECFP4.csv')"
      ]
    },
    {
      "cell_type": "code",
      "execution_count": 7,
      "metadata": {
        "colab": {
          "base_uri": "https://localhost:8080/",
          "height": 236
        },
        "id": "ivVlw3JF70bs",
        "outputId": "9bafe044-e1a0-4047-ab33-6f8221208f4b"
      },
      "outputs": [
        {
          "output_type": "execute_result",
          "data": {
            "text/plain": [
              "   0  1  2  3  4  5  6  7  8  9  ...  2039  2040  2041  2042  2043  2044  \\\n",
              "0  0  0  0  0  0  0  0  0  0  0  ...     0     0     0     0     0     0   \n",
              "1  0  0  0  0  0  0  0  0  0  0  ...     0     0     0     0     0     0   \n",
              "2  0  0  0  0  0  0  0  0  0  0  ...     0     0     0     0     0     0   \n",
              "3  0  0  1  0  0  0  0  0  0  0  ...     0     0     0     0     0     0   \n",
              "4  0  1  0  0  0  0  0  0  0  0  ...     0     0     0     0     0     0   \n",
              "\n",
              "   2045  2046  2047  log10Ki  \n",
              "0     0     0     0    3.602  \n",
              "1     0     0     0    3.602  \n",
              "2     0     0     0    3.602  \n",
              "3     0     0     0    3.602  \n",
              "4     0     0     0    3.477  \n",
              "\n",
              "[5 rows x 2049 columns]"
            ],
            "text/html": [
              "\n",
              "  <div id=\"df-23d95a21-66f6-455b-803b-ea62c416391a\">\n",
              "    <div class=\"colab-df-container\">\n",
              "      <div>\n",
              "<style scoped>\n",
              "    .dataframe tbody tr th:only-of-type {\n",
              "        vertical-align: middle;\n",
              "    }\n",
              "\n",
              "    .dataframe tbody tr th {\n",
              "        vertical-align: top;\n",
              "    }\n",
              "\n",
              "    .dataframe thead th {\n",
              "        text-align: right;\n",
              "    }\n",
              "</style>\n",
              "<table border=\"1\" class=\"dataframe\">\n",
              "  <thead>\n",
              "    <tr style=\"text-align: right;\">\n",
              "      <th></th>\n",
              "      <th>0</th>\n",
              "      <th>1</th>\n",
              "      <th>2</th>\n",
              "      <th>3</th>\n",
              "      <th>4</th>\n",
              "      <th>5</th>\n",
              "      <th>6</th>\n",
              "      <th>7</th>\n",
              "      <th>8</th>\n",
              "      <th>9</th>\n",
              "      <th>...</th>\n",
              "      <th>2039</th>\n",
              "      <th>2040</th>\n",
              "      <th>2041</th>\n",
              "      <th>2042</th>\n",
              "      <th>2043</th>\n",
              "      <th>2044</th>\n",
              "      <th>2045</th>\n",
              "      <th>2046</th>\n",
              "      <th>2047</th>\n",
              "      <th>log10Ki</th>\n",
              "    </tr>\n",
              "  </thead>\n",
              "  <tbody>\n",
              "    <tr>\n",
              "      <th>0</th>\n",
              "      <td>0</td>\n",
              "      <td>0</td>\n",
              "      <td>0</td>\n",
              "      <td>0</td>\n",
              "      <td>0</td>\n",
              "      <td>0</td>\n",
              "      <td>0</td>\n",
              "      <td>0</td>\n",
              "      <td>0</td>\n",
              "      <td>0</td>\n",
              "      <td>...</td>\n",
              "      <td>0</td>\n",
              "      <td>0</td>\n",
              "      <td>0</td>\n",
              "      <td>0</td>\n",
              "      <td>0</td>\n",
              "      <td>0</td>\n",
              "      <td>0</td>\n",
              "      <td>0</td>\n",
              "      <td>0</td>\n",
              "      <td>3.602</td>\n",
              "    </tr>\n",
              "    <tr>\n",
              "      <th>1</th>\n",
              "      <td>0</td>\n",
              "      <td>0</td>\n",
              "      <td>0</td>\n",
              "      <td>0</td>\n",
              "      <td>0</td>\n",
              "      <td>0</td>\n",
              "      <td>0</td>\n",
              "      <td>0</td>\n",
              "      <td>0</td>\n",
              "      <td>0</td>\n",
              "      <td>...</td>\n",
              "      <td>0</td>\n",
              "      <td>0</td>\n",
              "      <td>0</td>\n",
              "      <td>0</td>\n",
              "      <td>0</td>\n",
              "      <td>0</td>\n",
              "      <td>0</td>\n",
              "      <td>0</td>\n",
              "      <td>0</td>\n",
              "      <td>3.602</td>\n",
              "    </tr>\n",
              "    <tr>\n",
              "      <th>2</th>\n",
              "      <td>0</td>\n",
              "      <td>0</td>\n",
              "      <td>0</td>\n",
              "      <td>0</td>\n",
              "      <td>0</td>\n",
              "      <td>0</td>\n",
              "      <td>0</td>\n",
              "      <td>0</td>\n",
              "      <td>0</td>\n",
              "      <td>0</td>\n",
              "      <td>...</td>\n",
              "      <td>0</td>\n",
              "      <td>0</td>\n",
              "      <td>0</td>\n",
              "      <td>0</td>\n",
              "      <td>0</td>\n",
              "      <td>0</td>\n",
              "      <td>0</td>\n",
              "      <td>0</td>\n",
              "      <td>0</td>\n",
              "      <td>3.602</td>\n",
              "    </tr>\n",
              "    <tr>\n",
              "      <th>3</th>\n",
              "      <td>0</td>\n",
              "      <td>0</td>\n",
              "      <td>1</td>\n",
              "      <td>0</td>\n",
              "      <td>0</td>\n",
              "      <td>0</td>\n",
              "      <td>0</td>\n",
              "      <td>0</td>\n",
              "      <td>0</td>\n",
              "      <td>0</td>\n",
              "      <td>...</td>\n",
              "      <td>0</td>\n",
              "      <td>0</td>\n",
              "      <td>0</td>\n",
              "      <td>0</td>\n",
              "      <td>0</td>\n",
              "      <td>0</td>\n",
              "      <td>0</td>\n",
              "      <td>0</td>\n",
              "      <td>0</td>\n",
              "      <td>3.602</td>\n",
              "    </tr>\n",
              "    <tr>\n",
              "      <th>4</th>\n",
              "      <td>0</td>\n",
              "      <td>1</td>\n",
              "      <td>0</td>\n",
              "      <td>0</td>\n",
              "      <td>0</td>\n",
              "      <td>0</td>\n",
              "      <td>0</td>\n",
              "      <td>0</td>\n",
              "      <td>0</td>\n",
              "      <td>0</td>\n",
              "      <td>...</td>\n",
              "      <td>0</td>\n",
              "      <td>0</td>\n",
              "      <td>0</td>\n",
              "      <td>0</td>\n",
              "      <td>0</td>\n",
              "      <td>0</td>\n",
              "      <td>0</td>\n",
              "      <td>0</td>\n",
              "      <td>0</td>\n",
              "      <td>3.477</td>\n",
              "    </tr>\n",
              "  </tbody>\n",
              "</table>\n",
              "<p>5 rows × 2049 columns</p>\n",
              "</div>\n",
              "      <button class=\"colab-df-convert\" onclick=\"convertToInteractive('df-23d95a21-66f6-455b-803b-ea62c416391a')\"\n",
              "              title=\"Convert this dataframe to an interactive table.\"\n",
              "              style=\"display:none;\">\n",
              "        \n",
              "  <svg xmlns=\"http://www.w3.org/2000/svg\" height=\"24px\"viewBox=\"0 0 24 24\"\n",
              "       width=\"24px\">\n",
              "    <path d=\"M0 0h24v24H0V0z\" fill=\"none\"/>\n",
              "    <path d=\"M18.56 5.44l.94 2.06.94-2.06 2.06-.94-2.06-.94-.94-2.06-.94 2.06-2.06.94zm-11 1L8.5 8.5l.94-2.06 2.06-.94-2.06-.94L8.5 2.5l-.94 2.06-2.06.94zm10 10l.94 2.06.94-2.06 2.06-.94-2.06-.94-.94-2.06-.94 2.06-2.06.94z\"/><path d=\"M17.41 7.96l-1.37-1.37c-.4-.4-.92-.59-1.43-.59-.52 0-1.04.2-1.43.59L10.3 9.45l-7.72 7.72c-.78.78-.78 2.05 0 2.83L4 21.41c.39.39.9.59 1.41.59.51 0 1.02-.2 1.41-.59l7.78-7.78 2.81-2.81c.8-.78.8-2.07 0-2.86zM5.41 20L4 18.59l7.72-7.72 1.47 1.35L5.41 20z\"/>\n",
              "  </svg>\n",
              "      </button>\n",
              "      \n",
              "  <style>\n",
              "    .colab-df-container {\n",
              "      display:flex;\n",
              "      flex-wrap:wrap;\n",
              "      gap: 12px;\n",
              "    }\n",
              "\n",
              "    .colab-df-convert {\n",
              "      background-color: #E8F0FE;\n",
              "      border: none;\n",
              "      border-radius: 50%;\n",
              "      cursor: pointer;\n",
              "      display: none;\n",
              "      fill: #1967D2;\n",
              "      height: 32px;\n",
              "      padding: 0 0 0 0;\n",
              "      width: 32px;\n",
              "    }\n",
              "\n",
              "    .colab-df-convert:hover {\n",
              "      background-color: #E2EBFA;\n",
              "      box-shadow: 0px 1px 2px rgba(60, 64, 67, 0.3), 0px 1px 3px 1px rgba(60, 64, 67, 0.15);\n",
              "      fill: #174EA6;\n",
              "    }\n",
              "\n",
              "    [theme=dark] .colab-df-convert {\n",
              "      background-color: #3B4455;\n",
              "      fill: #D2E3FC;\n",
              "    }\n",
              "\n",
              "    [theme=dark] .colab-df-convert:hover {\n",
              "      background-color: #434B5C;\n",
              "      box-shadow: 0px 1px 3px 1px rgba(0, 0, 0, 0.15);\n",
              "      filter: drop-shadow(0px 1px 2px rgba(0, 0, 0, 0.3));\n",
              "      fill: #FFFFFF;\n",
              "    }\n",
              "  </style>\n",
              "\n",
              "      <script>\n",
              "        const buttonEl =\n",
              "          document.querySelector('#df-23d95a21-66f6-455b-803b-ea62c416391a button.colab-df-convert');\n",
              "        buttonEl.style.display =\n",
              "          google.colab.kernel.accessAllowed ? 'block' : 'none';\n",
              "\n",
              "        async function convertToInteractive(key) {\n",
              "          const element = document.querySelector('#df-23d95a21-66f6-455b-803b-ea62c416391a');\n",
              "          const dataTable =\n",
              "            await google.colab.kernel.invokeFunction('convertToInteractive',\n",
              "                                                     [key], {});\n",
              "          if (!dataTable) return;\n",
              "\n",
              "          const docLinkHtml = 'Like what you see? Visit the ' +\n",
              "            '<a target=\"_blank\" href=https://colab.research.google.com/notebooks/data_table.ipynb>data table notebook</a>'\n",
              "            + ' to learn more about interactive tables.';\n",
              "          element.innerHTML = '';\n",
              "          dataTable['output_type'] = 'display_data';\n",
              "          await google.colab.output.renderOutput(dataTable, element);\n",
              "          const docLink = document.createElement('div');\n",
              "          docLink.innerHTML = docLinkHtml;\n",
              "          element.appendChild(docLink);\n",
              "        }\n",
              "      </script>\n",
              "    </div>\n",
              "  </div>\n",
              "  "
            ]
          },
          "metadata": {},
          "execution_count": 7
        }
      ],
      "source": [
        "df.head()"
      ]
    },
    {
      "cell_type": "code",
      "execution_count": 8,
      "metadata": {
        "colab": {
          "base_uri": "https://localhost:8080/"
        },
        "id": "aPH5fbMO713P",
        "outputId": "94397cad-64dc-4d39-c2d8-718c0571bc19"
      },
      "outputs": [
        {
          "output_type": "stream",
          "name": "stdout",
          "text": [
            "<class 'pandas.core.frame.DataFrame'>\n",
            "RangeIndex: 3940 entries, 0 to 3939\n",
            "Columns: 2049 entries, 0 to log10Ki\n",
            "dtypes: float64(1), int64(2048)\n",
            "memory usage: 61.6 MB\n"
          ]
        }
      ],
      "source": [
        "df.info()"
      ]
    },
    {
      "cell_type": "code",
      "execution_count": 9,
      "metadata": {
        "id": "OZv9m194EZn2"
      },
      "outputs": [],
      "source": [
        "train, test = train_test_split(df, test_size=0.2, shuffle=True)"
      ]
    },
    {
      "cell_type": "markdown",
      "metadata": {
        "id": "Tlt3aOss3MHv"
      },
      "source": [
        "# Train model"
      ]
    },
    {
      "cell_type": "code",
      "execution_count": 10,
      "metadata": {
        "id": "twCyQSNjzrOO"
      },
      "outputs": [],
      "source": [
        "SEED = 42\n",
        "def set_seed():\n",
        "  seed(SEED)\n",
        "  tf.random.set_seed(SEED)"
      ]
    },
    {
      "cell_type": "code",
      "execution_count": 11,
      "metadata": {
        "id": "2leCzwLg3TbG"
      },
      "outputs": [],
      "source": [
        "class Mask:\n",
        "\n",
        "  def __init__(self, model_struct=None, mask_array=None):\n",
        "    if mask_array is not None:\n",
        "      self.mask_array = mask_array\n",
        "    else:\n",
        "      self.mask_array = self._mask_init(model_struct)\n",
        "    \n",
        "  def _mask_init(self, model_struct):\n",
        "    mask = []\n",
        "    for layer in model_struct.layers:\n",
        "      mask.append(np.ones_like(layer.get_weights()[0]))\n",
        "    return np.asarray(mask, dtype=object)\n",
        "\n",
        "  def get_callback(self):\n",
        "    return FreezeWeights(copy.deepcopy(self.mask_array))\n",
        "\n",
        "  def get_undropped_neuron_count(self):\n",
        "    unpack = []\n",
        "\n",
        "    for i in self.mask_array:\n",
        "      unpack.extend(i.ravel())\n",
        "    return np.sum(unpack)\n",
        "  \n",
        "  def get_neuron_count(self):\n",
        "\n",
        "    unpack = []\n",
        "\n",
        "    for i in self.mask_array:\n",
        "      unpack.extend(i.ravel())\n",
        "    \n",
        "    return len(unpack)\n",
        "\n",
        "\n",
        "  def drop_weights(self, drop_indexes):\n",
        "    mask = copy.deepcopy(self.mask_array)\n",
        "    for layer, indexes in drop_indexes.items():\n",
        "      for index in indexes:\n",
        "        if index.size == 1:\n",
        "          mask[layer][index][0] = 0\n",
        "        else:\n",
        "          mask[layer][index[0]][index[1]] = 0\n",
        "    return mask\n",
        "  "
      ]
    },
    {
      "cell_type": "code",
      "execution_count": 12,
      "metadata": {
        "id": "jRTe3drH5KGl"
      },
      "outputs": [],
      "source": [
        "@dataclass\n",
        "class DataPeace:\n",
        "  x: pd.DataFrame\n",
        "  y: pd.Series"
      ]
    },
    {
      "cell_type": "code",
      "execution_count": 13,
      "metadata": {
        "id": "Y3BxSJcuYuve"
      },
      "outputs": [],
      "source": [
        "@dataclass\n",
        "class DataFold:\n",
        "  train: DataPeace\n",
        "  valid: DataPeace"
      ]
    },
    {
      "cell_type": "code",
      "execution_count": 14,
      "metadata": {
        "id": "o_In6u92XKiE"
      },
      "outputs": [],
      "source": [
        "class DataContainer:\n",
        "\n",
        "  def __init__(self, train_data, test_data, features, target, cv):\n",
        "    self.train_data = train_data\n",
        "    self.features = features\n",
        "    self.target = target\n",
        "\n",
        "    self.data_folds = self.folds_split(cv)\n",
        "    self.data_test = DataPeace(\n",
        "        test_data[features],\n",
        "        test_data[target]\n",
        "    )\n",
        "\n",
        "  def folds_split(self, cv):\n",
        "    folders = []\n",
        "    \n",
        "    kfold = KFold(n_splits=cv, shuffle=True)\n",
        "    for train, test in kfold.split(self.train_data):\n",
        "      folders.append(\n",
        "          DataFold(\n",
        "              DataPeace(\n",
        "                  self.train_data.iloc[train][self.features],\n",
        "                  self.train_data.iloc[train][self.target]),\n",
        "              DataPeace(\n",
        "                  self.train_data.iloc[test][self.features],\n",
        "                  self.train_data.iloc[test][self.target])\n",
        "              )\n",
        "          )\n",
        "\n",
        "    return folders\n",
        "    "
      ]
    },
    {
      "cell_type": "code",
      "execution_count": 15,
      "metadata": {
        "id": "7Zq9ECAx3Vxv"
      },
      "outputs": [],
      "source": [
        "class ModelsGenerator:\n",
        "\n",
        "  def __init__(self, model_struct, compile_params, weights=None, biases=None):\n",
        "    self.model_struct = model_struct\n",
        "    self.compile_params = compile_params\n",
        "\n",
        "    if weights is None or biases is None:\n",
        "      weights = []\n",
        "      biases = []\n",
        "      for layer in model_struct.layers:\n",
        "        weights.append(layer.get_weights()[0])\n",
        "        biases.append(layer.get_weights()[1])\n",
        "    self.weights = weights\n",
        "    self.biases = biases\n",
        "\n",
        "  def create_model(self, weights=None, biases=None):\n",
        "    if weights is None or biases is None:\n",
        "      weights = self.weights\n",
        "      biases = self.biases\n",
        "\n",
        "    weights = copy.deepcopy(weights)\n",
        "    biases = copy.deepcopy(biases)\n",
        "\n",
        "    set_seed()\n",
        "\n",
        "    model = keras.models.clone_model(model=self.model_struct)\n",
        "    model.compile(**self.compile_params)    \n",
        "\n",
        "    for layer, layer_weight, layer_bias in zip(model.layers, weights, biases):\n",
        "      layer.set_weights([layer_weight, layer_bias])\n",
        "\n",
        "    return model\n",
        "\n",
        "  def create_models(self, models_n,  weights=None, biases=None):\n",
        "    return [self.create_model(weights, biases) for _ in range(models_n)]"
      ]
    },
    {
      "cell_type": "code",
      "execution_count": 16,
      "metadata": {
        "id": "m3bp9OoJVxTk"
      },
      "outputs": [],
      "source": [
        "class ModelsController:\n",
        "  \n",
        "  def __init__(self):\n",
        "    self.target_models = []\n",
        "    self.folds_models = []\n",
        "\n",
        "  @staticmethod\n",
        "  def get_model_weights(model):\n",
        "    weights_arr = []\n",
        "    biases_arr = []\n",
        "\n",
        "    for layer in model.layers:\n",
        "      weights_arr.append(layer.get_weights()[0])\n",
        "      biases_arr.append(layer.get_weights()[1])\n",
        "\n",
        "    return copy.deepcopy(weights_arr), copy.deepcopy(biases_arr)\n",
        "\n",
        "  def get_models(self):\n",
        "    return {'target_models': self.target_models, 'folds_models': self.folds_models}\n",
        "\n",
        "  def models_generate(self, generator, models_n, folders_n):\n",
        "    \n",
        "    self.target_models = generator.create_models(models_n=folders_n)\n",
        "    self.folds_models = [generator.create_models(models_n=models_n) for _ in range(folders_n)]\n",
        "\n",
        "\n",
        "  def target_models_fit(self, train_data, epochs, callbacks):\n",
        "\n",
        "    for model, fold in zip(self.target_models, train_data):\n",
        "      set_seed()\n",
        "      model.fit(\n",
        "          x=fold.train.x,\n",
        "          y=fold.train.y,\n",
        "          validation_data=(fold.valid.x, fold.valid.y),\n",
        "          epochs=epochs,\n",
        "          callbacks=callbacks,\n",
        "          verbose=False)\n",
        "\n",
        "  def folds_models_fit(self, train_data, epochs, callbacks, optimizer):\n",
        "\n",
        "    for models_fold, fold in zip(self.folds_models, train_data):\n",
        "      \n",
        "      for model in models_fold:\n",
        "        y_train, y_valid = optimizer.shuffle_noise(fold.train.y, fold.valid.y)\n",
        "        set_seed()\n",
        "        model.fit(\n",
        "            x=fold.train.x,\n",
        "            y=y_train,\n",
        "            validation_data=(fold.valid.x, y_valid),\n",
        "            epochs=epochs,\n",
        "            callbacks=callbacks,\n",
        "            verbose=False)\n",
        "  \n",
        "\n",
        "  def evaluate(self, data_test, metrics):\n",
        "    scores = []\n",
        "\n",
        "    for model in self.target_models:\n",
        "      model_score = []\n",
        "\n",
        "      y_pred = np.array(model.predict(data_test.x)).reshape(-1)\n",
        "\n",
        "      for metric_name, metric in metrics.items():\n",
        "\n",
        "        metric_score = metric(data_test.y, y_pred)\n",
        "\n",
        "        model_score.append(metric_score)\n",
        "\n",
        "        print(f'{metric_name}: {metric_score}', end=' ')\n",
        "      \n",
        "      scores.append(model_score)\n",
        "\n",
        "      print()\n",
        "    \n",
        "    mean_score = np.mean(scores, axis=0)\n",
        "\n",
        "    mean_score_dict = dict(zip(metrics.keys(), mean_score))\n",
        "\n",
        "    return mean_score_dict"
      ]
    },
    {
      "cell_type": "code",
      "source": [
        "class RegressionWeightsOptimizer:\n",
        "\n",
        "  def __init__(self, dr, drl, models_n):\n",
        "    self.dr = dr\n",
        "    self.drl = drl\n",
        "    self.noise = cycle(np.linspace(0.9, 1.1, models_n))\n",
        "\n",
        "  def shuffle_noise(self, y_train, y_valid):\n",
        "    noise = next(self.noise)\n",
        "    return np.multiply(y_train, noise), np.multiply(y_valid,noise)\n",
        "\n",
        "  @staticmethod\n",
        "  def get_dispersion_weights(target_models, folds_models):\n",
        "\n",
        "    weight_dispersion = []\n",
        "\n",
        "    for target_model, fold_models in zip(target_models, folds_models):\n",
        "\n",
        "      target_weights, _ = ModelsController.get_model_weights(target_model)\n",
        "\n",
        "      fold_weights = []\n",
        "\n",
        "      for model in fold_models:\n",
        "        weights, _ = ModelsController.get_model_weights(model)\n",
        "        fold_weights.append(weights)\n",
        "\n",
        "      weight_dispersion.append(np.mean(np.abs(np.divide(np.subtract(fold_weights, target_weights), fold_weights)), axis=0))\n",
        "    \n",
        "    mean_dispersion = np.mean(np.array(weight_dispersion), axis=0)\n",
        "\n",
        "    return mean_dispersion\n",
        "\n",
        "  def dr_low(self):\n",
        "    self.dr = self.dr * self.drl\n",
        "\n",
        "\n",
        "  def drop_weights_indexes(self, weights_dispersion, mask):\n",
        "    weights_unpack = []\n",
        "\n",
        "    for layer in weights_dispersion:\n",
        "        layer = np.nan_to_num(layer)\n",
        "        weights_unpack.extend(layer.ravel())\n",
        "\n",
        "    weights_unpack = np.array(weights_unpack)\n",
        "\n",
        "    drop_threshold_idx = ceil(mask.get_neuron_count() * self.dr)\n",
        "\n",
        "    threshold_drop = np.sort(weights_unpack)[-drop_threshold_idx]\n",
        "\n",
        "    drop_indexes = {}\n",
        "\n",
        "    dropped_count = 0\n",
        "\n",
        "    for i, layer in enumerate(weights_dispersion):\n",
        "\n",
        "        indexes = np.argwhere(layer >= threshold_drop)\n",
        "\n",
        "        dropped_count += len(indexes)\n",
        "\n",
        "        if indexes.size != 0:\n",
        "            drop_indexes[i] = indexes\n",
        "\n",
        "    print(f'\\nWeights was {mask.get_undropped_neuron_count()} dropped: {dropped_count}')\n",
        "\n",
        "    return drop_indexes\n"
      ],
      "metadata": {
        "id": "BqifaErjdgrC"
      },
      "execution_count": 17,
      "outputs": []
    },
    {
      "cell_type": "code",
      "execution_count": 18,
      "metadata": {
        "id": "ZB53bAGUQ3Y8"
      },
      "outputs": [],
      "source": [
        "class ModelsCheckpoint:\n",
        "\n",
        "  def __init__(self):\n",
        "    self.saved_masks = [None, None]\n",
        "    self.saved_target_weights = [None, None]\n",
        "    self.saved_folders_weights = [None, None]\n",
        "    self.scores = [None, None]\n",
        "\n",
        "    self.best_mask = None\n",
        "    self.best_target_weights = None\n",
        "    self.best_score = None\n",
        "  \n",
        "  def _save(self, arr, elem):\n",
        "    arr.pop(0)\n",
        "    arr.append(copy.deepcopy(elem))\n",
        "\n",
        "  def create_checkpoint(self, mask, target_models, folds_models, score):    \n",
        "    target_models_weights = [model.get_weights() for model in target_models]\n",
        "\n",
        "    folders_models_weights = [[model.get_weights() for model in fold] for fold in folds_models]\n",
        "\n",
        "    self._save(self.saved_masks, mask.mask_array)\n",
        "    self._save(self.saved_target_weights, target_models_weights)\n",
        "    self._save(self.saved_folders_weights, folders_models_weights)\n",
        "\n",
        "    self._save(self.scores, score)\n",
        "\n",
        "  def save_best_params(self, score, mask, target_models):\n",
        "    self.best_score = score\n",
        "    self.best_mask = copy.deepcopy(mask)\n",
        "    self.best_target_weights = copy.deepcopy([model.get_weights() for model in target_models])\n",
        "\n",
        "  def check_model_better(self, score, mask, target_models):\n",
        "    if self.scores[-1] is None:\n",
        "      self.save_best_params(score, mask, target_models)\n",
        "      return True\n",
        "    else:\n",
        "      if score['loss'] < self.scores[-1]['loss']:\n",
        "        if score['loss'] < self.best_score['loss']:\n",
        "          self.save_best_params(score, mask, target_models)\n",
        "        return True\n",
        "      else:\n",
        "        return False\n",
        "\n",
        "  def models_set_weights(self, models, weights):\n",
        "    for model, weight in zip(models, weights):\n",
        "      model.set_weights(weight)\n",
        "\n",
        "\n",
        "  def roll_back(self, mask, target_models, folds_models):\n",
        "\n",
        "    for i in range(2):\n",
        "      \n",
        "      if self.saved_masks[i] is not None:\n",
        "\n",
        "        mask.mask_array = copy.deepcopy(self.saved_masks[i])\n",
        "\n",
        "        self.models_set_weights(target_models, self.saved_target_weights[i])\n",
        "\n",
        "        for fold_models, weights in zip(folds_models, self.saved_folders_weights[i]):\n",
        "          \n",
        "          self.models_set_weights(fold_models, weights)\n",
        "\n",
        "      self.saved_masks = [None, self.saved_masks[i]]\n",
        "      self.saved_target_weights = [None, self.saved_target_weights[i]]\n",
        "      self.saved_folders_weights = [None, self.saved_folders_weights[i]]\n",
        "      self.scores = [None, self.scores[i]]\n",
        "      break"
      ]
    },
    {
      "cell_type": "code",
      "execution_count": 19,
      "metadata": {
        "id": "B9pQ_1QSlI6B"
      },
      "outputs": [],
      "source": [
        "class Pruning:\n",
        "\n",
        "  def __init__(self, weights_optimizer, data):\n",
        "\n",
        "    self.weights_optimizer = weights_optimizer\n",
        "    self.data_container = data\n",
        "\n",
        "    self.mask = None\n",
        "    self.models_controller = None\n",
        "    self.checkpointer = ModelsCheckpoint()\n",
        "\n",
        "  def model_compile(self, model_struct, compile_params, models_n, folders):\n",
        "    model_struct.build()\n",
        "\n",
        "    controller = ModelsController()\n",
        "    generator = ModelsGenerator(model_struct, compile_params)\n",
        "    controller.models_generate(generator, models_n, folders)\n",
        "\n",
        "    self.models_controller = controller\n",
        "    self.mask = Mask(model_struct=model_struct)  \n",
        "\n",
        "  def _get_callbacks(self):\n",
        "    early_stop_callback = keras.callbacks.EarlyStopping(\n",
        "        monitor='val_loss',\n",
        "        patience=20,\n",
        "        mode='min',\n",
        "        restore_best_weights=True)\n",
        "    \n",
        "    return [early_stop_callback, self.mask.get_callback()]\n",
        "\n",
        "\n",
        "  def fit(self, iter, epochs, metrics):\n",
        "\n",
        "    history = []\n",
        "\n",
        "    print(f'Weights count: {self.mask.get_undropped_neuron_count()}')\n",
        "\n",
        "    for i in range(iter):\n",
        "      \n",
        "      callbacks = self._get_callbacks()\n",
        "\n",
        "      self.models_controller.target_models_fit(self.data_container.data_folds, epochs, callbacks)\n",
        "      score = self.models_controller.evaluate(self.data_container.data_test, metrics)\n",
        "\n",
        "      if not self.checkpointer.check_model_better(score, self.mask.mask_array, self.models_controller.target_models):\n",
        "        print('Rollback')\n",
        "\n",
        "        self.checkpointer.roll_back(self.mask, **self.models_controller.get_models())\n",
        "        self.weights_optimizer.dr_low()\n",
        "\n",
        "        print('Create new mask')\n",
        "        weights_dispersion = self.weights_optimizer.get_dispersion_weights(**self.models_controller.get_models())\n",
        "        drop_indexes = self.weights_optimizer.drop_weights_indexes(weights_dispersion, self.mask)\n",
        "\n",
        "        self.mask = Mask(mask_array=self.mask.drop_weights(drop_indexes))\n",
        "\n",
        "        continue\n",
        "\n",
        "\n",
        "      self.models_controller.folds_models_fit(self.data_container.data_folds, epochs, callbacks, self.weights_optimizer)\n",
        "\n",
        "      weights_dispersion = self.weights_optimizer.get_dispersion_weights(**self.models_controller.get_models())\n",
        "      drop_indexes = self.weights_optimizer.drop_weights_indexes(weights_dispersion, self.mask)\n",
        "\n",
        "      self.checkpointer.create_checkpoint(mask = self.mask, score= score,**self.models_controller.get_models())\n",
        "\n",
        "      history.append(score)\n",
        "\n",
        "      self.mask = Mask(mask_array=self.mask.drop_weights(drop_indexes))\n",
        "      \n",
        "    final_score = self.models_controller.evaluate(self.data_container.data_test, metrics)\n",
        "\n",
        "    print(f'Weights on start {self.mask.get_neuron_count()}, weights after fit {self.mask.get_undropped_neuron_count()}, weights dropped {self.mask.get_neuron_count() - self.mask.get_undropped_neuron_count()}')\n",
        "\n",
        "    return history\n"
      ]
    },
    {
      "cell_type": "code",
      "execution_count": 20,
      "metadata": {
        "id": "0kbC2kGd3W8w"
      },
      "outputs": [],
      "source": [
        "model = Sequential()\n",
        "model.add(InputLayer(input_shape=(2048,)))\n",
        "model.add(Dense(units=1024, activation='relu'))\n",
        "model.add(Dense(1))\n",
        "\n",
        "compile_params = {\n",
        "    'loss': RMSE,\n",
        "    'optimizer': 'adam'}\n",
        "\n",
        "metrics = {\n",
        "    'loss': RMSE,\n",
        "    'R2':r2_score,\n",
        "    'MSE': mean_squared_error,\n",
        "    'MAE': mean_absolute_error,\n",
        "    'max_error': max_error,\n",
        "    'explained_variance':explained_variance_score\n",
        "}\n",
        "\n",
        "data = DataContainer(train, test, train.columns.drop('log10Ki'), 'log10Ki', 5)\n",
        "\n",
        "weights_optimizer = RegressionWeightsOptimizer(dr=0.1, drl=0.5, models_n=2)\n",
        "\n",
        "prun = Pruning(weights_optimizer, data)\n",
        "\n",
        "prun.model_compile(\n",
        "    model_struct=model, \n",
        "    compile_params=compile_params, \n",
        "    models_n=2, \n",
        "    folders=5)\n"
      ]
    },
    {
      "cell_type": "code",
      "execution_count": 21,
      "metadata": {
        "colab": {
          "base_uri": "https://localhost:8080/"
        },
        "id": "zPxC14JnGMv5",
        "outputId": "e7e8bf9a-b4cc-4bd1-ec7a-bb7c3763d985"
      },
      "outputs": [
        {
          "output_type": "stream",
          "name": "stdout",
          "text": [
            "Weights count: 2098176.0\n",
            "loss: 0.7862764126869667 R2: 0.7914686754488763 MSE: 0.6182305971478851 MAE: 0.5600097607539649 max_error: 3.557804957612376 explained_variance: 0.7934030999743209 \n",
            "loss: 0.7896804951446984 R2: 0.7896591478290135 MSE: 0.623595284411976 MAE: 0.5656265805872795 max_error: 3.4864712298654226 explained_variance: 0.7909815228604635 \n",
            "loss: 0.781125181410875 R2: 0.7941920798798596 MSE: 0.6101565490341724 MAE: 0.5661507037379416 max_error: 3.251853281333318 explained_variance: 0.794327253205489 \n",
            "loss: 0.797128390203677 R2: 0.7856727652238238 MSE: 0.6354136704687056 MAE: 0.5760111728155689 max_error: 3.6425073683999685 explained_variance: 0.7867969627502451 \n",
            "loss: 0.8145521322439631 R2: 0.776200775968189 MSE: 0.6634951761431868 MAE: 0.5770096022224728 max_error: 3.3750993428972715 explained_variance: 0.7789190497856142 \n",
            "\n",
            "Weights was 2098176.0 dropped: 209818\n",
            "loss: 0.7792533979040751 R2: 0.7951772390462347 MSE: 0.6072358581450468 MAE: 0.5478865473112604 max_error: 3.610202029927592 explained_variance: 0.7962744389981892 \n",
            "loss: 0.7801409623619795 R2: 0.7947103897927765 MSE: 0.6086199211550753 MAE: 0.5570648609300679 max_error: 3.579908186271062 explained_variance: 0.7962702769354735 \n",
            "loss: 0.7808151618628878 R2: 0.7943554130260859 MSE: 0.6096723169949677 MAE: 0.5674404454030941 max_error: 3.2029060290702454 explained_variance: 0.7949548152672159 \n",
            "loss: 0.7915378145154096 R2: 0.7886685457629543 MSE: 0.626532111807831 MAE: 0.5619242085119551 max_error: 3.768926435782781 explained_variance: 0.7888389246448487 \n",
            "loss: 0.8094292303453436 R2: 0.7790069712291712 MSE: 0.6551756789374553 MAE: 0.5762376064481803 max_error: 3.2663171706942076 explained_variance: 0.7842862954761645 \n",
            "\n",
            "Weights was 1888358.0 dropped: 209818\n",
            "loss: 0.7821801566198034 R2: 0.7936357826828819 MSE: 0.6118057974097802 MAE: 0.5535625771363197 max_error: 3.6702429807027386 explained_variance: 0.7942298889884689 \n",
            "loss: 0.7760223273496636 R2: 0.7968722583233694 MSE: 0.6022106525451886 MAE: 0.5530791067998447 max_error: 3.4381404460214284 explained_variance: 0.7976714410515959 \n",
            "loss: 0.7831737818464258 R2: 0.7931111492464726 MSE: 0.6133611725716328 MAE: 0.5664781272888335 max_error: 3.258819358194696 explained_variance: 0.7952212137694317 \n",
            "loss: 0.7929466320696292 R2: 0.7879156002638448 MSE: 0.628764361310568 MAE: 0.5637715523721594 max_error: 3.870824390723577 explained_variance: 0.7895537895479687 \n",
            "loss: 0.79969537771675 R2: 0.7842901493109282 MSE: 0.6395126971415356 MAE: 0.5678566797198232 max_error: 3.3828930674341673 explained_variance: 0.7878953890516449 \n",
            "\n",
            "Weights was 1678540.0 dropped: 209818\n",
            "loss: 0.7878159467640059 R2: 0.7906512647385935 MSE: 0.6206539659756668 MAE: 0.5592224303994655 max_error: 3.8054965889295147 explained_variance: 0.7935227079887154 \n",
            "loss: 0.7725926486877053 R2: 0.7986637619552631 MSE: 0.5968994008062839 MAE: 0.5568596747492249 max_error: 3.403846794440618 explained_variance: 0.7988396601411369 \n",
            "loss: 0.7877781163825892 R2: 0.7906713698212242 MSE: 0.6205943606513001 MAE: 0.5794462112328694 max_error: 3.200826340987554 explained_variance: 0.792112376828157 \n",
            "loss: 0.7886603743801157 R2: 0.7902022395678852 MSE: 0.6219851861173843 MAE: 0.5672728109473115 max_error: 3.8659546912454275 explained_variance: 0.791563585866087 \n",
            "loss: 0.7969897122394155 R2: 0.785747332582188 MSE: 0.6351926014154664 MAE: 0.5634554876268477 max_error: 3.2214797554758543 explained_variance: 0.7868206276484836 \n",
            "\n",
            "Weights was 1468722.0 dropped: 209818\n",
            "loss: 0.7691564224796648 R2: 0.8004507277847949 MSE: 0.5916016022417165 MAE: 0.5453775143426405 max_error: 3.8411475574811504 explained_variance: 0.8011192271285136 \n",
            "loss: 0.768523292436027 R2: 0.8007791099894371 MSE: 0.5906280510167111 MAE: 0.5539292288365383 max_error: 3.389269763305059 explained_variance: 0.8023592168225161 \n",
            "loss: 0.7960996601581415 R2: 0.7862256061359775 MSE: 0.6337746689039083 MAE: 0.5901936505641118 max_error: 3.239195996596685 explained_variance: 0.7927778968871799 \n",
            "loss: 0.7823768838660012 R2: 0.793531963711751 MSE: 0.6121135884078744 MAE: 0.5638520791803866 max_error: 3.671413236930242 explained_variance: 0.7945412322167179 \n",
            "loss: 0.7854241714454859 R2: 0.7919204826700341 MSE: 0.6168911290908279 MAE: 0.5550757000971582 max_error: 3.3047913728502745 explained_variance: 0.795230208911529 \n",
            "\n",
            "Weights was 1258904.0 dropped: 209818\n",
            "loss: 0.7741671197730007 R2: 0.7978423171954918 MSE: 0.5993347293376237 MAE: 0.5520369272676574 max_error: 4.057714477761607 explained_variance: 0.7995452914009175 \n",
            "loss: 0.7592679538341899 R2: 0.8055486570229713 MSE: 0.5764878257195575 MAE: 0.5471751266028709 max_error: 3.4254944861673025 explained_variance: 0.8068791635815239 \n",
            "loss: 0.7731618297080213 R2: 0.7983669976042139 MSE: 0.5977792149174553 MAE: 0.5649111598771971 max_error: 3.442101770713201 explained_variance: 0.8008244195843073 \n",
            "loss: 0.7738003359864137 R2: 0.7980338277714096 MSE: 0.5987669599726869 MAE: 0.5511095139568347 max_error: 3.9340394080423025 explained_variance: 0.7980737866354826 \n",
            "loss: 0.7845182986443039 R2: 0.7924001849305161 MSE: 0.6154689609077533 MAE: 0.5561435311271368 max_error: 3.2642399951292784 explained_variance: 0.7943628468975145 \n",
            "\n",
            "Weights was 1049086.0 dropped: 209818\n",
            "loss: 0.7611457509268654 R2: 0.8045856460302825 MSE: 0.5793428541540219 MAE: 0.5447844141241145 max_error: 3.503651932462077 explained_variance: 0.8050258801457455 \n",
            "loss: 0.7602206541025893 R2: 0.8050603707192633 MSE: 0.5779354429241688 MAE: 0.5485289065002997 max_error: 3.4201520026467946 explained_variance: 0.8060085535100394 \n",
            "loss: 0.7573107256596107 R2: 0.8065498717100832 MSE: 0.5735195351990862 MAE: 0.5518446934791534 max_error: 3.196638757064214 explained_variance: 0.806720334459395 \n",
            "loss: 0.7737639641322114 R2: 0.7980528138358629 MSE: 0.5987106721895941 MAE: 0.5530912216386883 max_error: 3.7728007376931814 explained_variance: 0.7991932010319117 \n",
            "loss: 0.7783869683451815 R2: 0.795632458968418 MSE: 0.6058862724896026 MAE: 0.5538230346199517 max_error: 3.2163654273589657 explained_variance: 0.7960694056320181 \n",
            "\n",
            "Weights was 839268.0 dropped: 209818\n",
            "loss: 0.7571921713115112 R2: 0.8066104348525971 MSE: 0.5733399842954409 MAE: 0.5400538302027418 max_error: 3.8391088998158978 explained_variance: 0.8072716547321306 \n",
            "loss: 0.7490110171780849 R2: 0.810766850241988 MSE: 0.5610175038541495 MAE: 0.5386583039637228 max_error: 3.255711477830743 explained_variance: 0.811005216937226 \n",
            "loss: 0.7549944731673972 R2: 0.8077314055140039 MSE: 0.5700166545133157 MAE: 0.5500589001693024 max_error: 3.168009421147275 explained_variance: 0.8079799795241821 \n",
            "loss: 0.75829278663199 R2: 0.8060478241485881 MSE: 0.5750079502581087 MAE: 0.5439356387653264 max_error: 3.489552074744573 explained_variance: 0.8070676098427811 \n",
            "loss: 0.7682530498158817 R2: 0.8009191929513279 MSE: 0.5902127485514037 MAE: 0.5472652675810519 max_error: 3.2542206501802013 explained_variance: 0.8016208725629455 \n",
            "\n",
            "Weights was 629450.0 dropped: 209818\n",
            "loss: 0.7535226410958804 R2: 0.8084803149634241 MSE: 0.5677963706441109 MAE: 0.5415928894829578 max_error: 3.9326933181127117 explained_variance: 0.8102136472561191 \n",
            "loss: 0.7547214589979652 R2: 0.8078704331801656 MSE: 0.5696044806720173 MAE: 0.5439382393575777 max_error: 3.3979883731149343 explained_variance: 0.8089660595248649 \n",
            "loss: 0.7571604831417879 R2: 0.80662662105569 MSE: 0.5732919972315056 MAE: 0.5489720357609351 max_error: 3.400269800498357 explained_variance: 0.8070917281083069 \n",
            "loss: 0.7540762719271515 R2: 0.8081987835310358 MSE: 0.5686310238835511 MAE: 0.5413474377092529 max_error: 3.5569713652871755 explained_variance: 0.8092592032368685 \n",
            "loss: 0.7668114466726439 R2: 0.8016656299440663 MSE: 0.587999794748193 MAE: 0.5470460035604224 max_error: 3.2833776171892626 explained_variance: 0.8031018312071934 \n",
            "\n",
            "Weights was 419632.0 dropped: 209818\n",
            "loss: 0.7466454194291543 R2: 0.8119602708946387 MSE: 0.5574793823545378 MAE: 0.5453162211704425 max_error: 3.198702291234355 explained_variance: 0.8120430586177168 \n",
            "loss: 0.743995239150676 R2: 0.8132927769377979 MSE: 0.5535289158788717 MAE: 0.5426803089488768 max_error: 3.0738830981997007 explained_variance: 0.8135168672065702 \n",
            "loss: 0.7486408797878074 R2: 0.8109538300227158 MSE: 0.5604631668894622 MAE: 0.5520248506772866 max_error: 3.186515146567693 explained_variance: 0.8110022063655056 \n",
            "loss: 0.7630580725434556 R2: 0.8036024847020327 MSE: 0.5822576220737335 MAE: 0.553433807081796 max_error: 3.8150203765176443 explained_variance: 0.803692961760442 \n",
            "loss: 0.7626491260660716 R2: 0.8038129393266563 MSE: 0.5816336894893429 MAE: 0.5487289019630078 max_error: 3.4147779043405992 explained_variance: 0.8041272937036534 \n",
            "\n",
            "Weights was 209814.0 dropped: 209814\n",
            "loss: 2.6650931613894997 R2: -1.3957726153075338 MSE: 7.1027215588850785 MAE: 2.2875758793771155 max_error: 5.769549553924151 explained_variance: 0.0 \n",
            "loss: 2.6672273338096977 R2: -1.3996111595835097 MSE: 7.114101650221588 MAE: 2.2895836345301857 max_error: 5.77234480314786 explained_variance: 0.0 \n",
            "loss: 2.6825586274271047 R2: -1.4272764997472076 MSE: 7.196120789583594 MAE: 2.304117774212097 max_error: 5.792378520303316 explained_variance: 0.0 \n",
            "loss: 2.6893876352051316 R2: -1.439650498663533 MSE: 7.232805852394249 MAE: 2.3106538716072285 max_error: 5.801276212268419 explained_variance: 0.0 \n",
            "loss: 2.725516463802845 R2: -1.5056385732762658 MSE: 7.428439994460362 MAE: 2.3454397188831657 max_error: 5.8480931871467305 explained_variance: 0.0 \n",
            "Rollback\n",
            "Create new mask\n",
            "\n",
            "Weights was 419632.0 dropped: 104909\n",
            "loss: 0.7464838523709618 R2: 0.8120416421532844 MSE: 0.5572381418505918 MAE: 0.5401048377911634 max_error: 3.841444567426066 explained_variance: 0.8120808868518198 \n",
            "loss: 0.7420293185013463 R2: 0.8142781774360931 MSE: 0.5506075095155724 MAE: 0.5398912347463669 max_error: 3.1758262126816987 explained_variance: 0.8147436329747529 \n",
            "loss: 0.7559051675016065 R2: 0.807267286822421 MSE: 0.5713926222556318 MAE: 0.5526219056256707 max_error: 3.126771062204216 explained_variance: 0.8075443696058267 \n",
            "loss: 0.7686458267362537 R2: 0.8007155768768315 MSE: 0.5908164069590589 MAE: 0.549232813786387 max_error: 3.5971022189401296 explained_variance: 0.8021995665465511 \n",
            "loss: 0.7614585588641862 R2: 0.8044249942191857 MSE: 0.5798191368675234 MAE: 0.5477541296578052 max_error: 3.3999449308603746 explained_variance: 0.805037448405416 \n",
            "\n",
            "Weights was 314723.0 dropped: 104909\n",
            "loss: 0.7503749959977053 R2: 0.8100770205422781 MSE: 0.5630626346185562 MAE: 0.545354761619799 max_error: 3.4698170578321026 explained_variance: 0.8102794209787652 \n",
            "loss: 0.7558432656749561 R2: 0.8072988516774142 MSE: 0.5712990422661822 MAE: 0.5471632716509328 max_error: 3.152917525090146 explained_variance: 0.8077417125267 \n",
            "loss: 0.7648512003776062 R2: 0.8026783620296707 MSE: 0.5849973587190652 MAE: 0.5592468758436211 max_error: 3.1107834785355806 explained_variance: 0.8027046705975383 \n",
            "loss: 0.7730823142758952 R2: 0.7984084691571305 MSE: 0.597656264646174 MAE: 0.5617117520209892 max_error: 3.6462565005563405 explained_variance: 0.79849553512538 \n",
            "loss: 0.7710300191412592 R2: 0.7994773751552042 MSE: 0.5944872904169707 MAE: 0.5464337770800614 max_error: 3.3838499482363207 explained_variance: 0.7995913654341185 \n",
            "Rollback\n",
            "Create new mask\n",
            "\n",
            "Weights was 419632.0 dropped: 52455\n",
            "loss: 0.7483148615303171 R2: 0.8111184458878613 MSE: 0.5599751319871376 MAE: 0.5395748169640767 max_error: 3.9237193620046185 explained_variance: 0.8118396189158397 \n",
            "loss: 0.7483477002885018 R2: 0.8111018679148798 MSE: 0.5600242805270892 MAE: 0.5436495779201552 max_error: 3.1204906909837007 explained_variance: 0.8118920995035946 \n",
            "loss: 0.7554610527445763 R2: 0.8074936916703923 MSE: 0.5707214022139435 MAE: 0.5506920580097238 max_error: 3.14993277250133 explained_variance: 0.8078371055440221 \n",
            "loss: 0.7524065503873486 R2: 0.8090472389745428 MSE: 0.5661156170657897 MAE: 0.5415719519340086 max_error: 3.4047396720193532 explained_variance: 0.8090656284709408 \n",
            "loss: 0.7651410180035124 R2: 0.8025287953601283 MSE: 0.5854407774314513 MAE: 0.5471212257310379 max_error: 3.3294703658312303 explained_variance: 0.8031869831808947 \n",
            "\n",
            "Weights was 367177.0 dropped: 52455\n",
            "loss: 0.7452314016813348 R2: 0.8126718261549685 MSE: 0.5553698420519271 MAE: 0.5367740374468065 max_error: 3.411174759848933 explained_variance: 0.8129565323448517 \n",
            "loss: 0.7385035606584945 R2: 0.8160389016783719 MSE: 0.5453875091052747 MAE: 0.540741936486315 max_error: 3.1547290294541597 explained_variance: 0.816649100548845 \n",
            "loss: 0.7523706710076403 R2: 0.8090654501484362 MSE: 0.566061626592487 MAE: 0.5471060730805929 max_error: 3.155018708027768 explained_variance: 0.8095804954846181 \n",
            "loss: 0.7621784350078828 R2: 0.8040550296819746 MSE: 0.5809159667910654 MAE: 0.5481571096374025 max_error: 3.533702188804021 explained_variance: 0.8051116866372898 \n",
            "loss: 0.761320829376397 R2: 0.804495737423738 MSE: 0.5796094052423649 MAE: 0.5440774257642466 max_error: 3.34218439418969 explained_variance: 0.8055015413507993 \n",
            "\n",
            "Weights was 314722.0 dropped: 52455\n",
            "loss: 0.7484348017852941 R2: 0.8110578929883735 MSE: 0.5601546525233926 MAE: 0.5409412485847273 max_error: 3.3238527929624127 explained_variance: 0.8117732037597676 \n",
            "loss: 0.7444388264519838 R2: 0.8130700721710344 MSE: 0.5541891663292068 MAE: 0.5362186156831532 max_error: 3.1479863136185884 explained_variance: 0.8136495031018166 \n",
            "loss: 0.750559879724733 R2: 0.809983419358127 MSE: 0.5633401330524057 MAE: 0.5485369287163874 max_error: 3.2329092562936452 explained_variance: 0.8102394045849673 \n",
            "loss: 0.7579142584654872 R2: 0.8062414117407307 MSE: 0.5744340231852894 MAE: 0.5442242918262467 max_error: 3.657642656638494 explained_variance: 0.8069021051739376 \n",
            "loss: 0.7555249623077289 R2: 0.8074611194698228 MSE: 0.5708179686700953 MAE: 0.5404797548275388 max_error: 3.4416112597673876 explained_variance: 0.8080116846603916 \n",
            "\n",
            "Weights was 262267.0 dropped: 52455\n",
            "loss: 0.7509864476829192 R2: 0.8097673725905659 MSE: 0.56398064460341 MAE: 0.5457410619886098 max_error: 3.316589682885979 explained_variance: 0.8097755224237371 \n",
            "loss: 0.7478313596828899 R2: 0.8113624476622291 MSE: 0.5592517425251599 MAE: 0.5402052929367521 max_error: 3.0836275161050466 explained_variance: 0.8114458316308777 \n",
            "loss: 0.7555244223577069 R2: 0.8074613946727369 MSE: 0.5708171527789466 MAE: 0.5455595858099497 max_error: 3.5037561000131277 explained_variance: 0.8074726841512572 \n",
            "loss: 0.76875123657425 R2: 0.8006609145644544 MSE: 0.5909784637344385 MAE: 0.5638879081251555 max_error: 3.7241652549050954 explained_variance: 0.8017495706143325 \n",
            "loss: 0.7590054143440956 R2: 0.8056831084506848 MSE: 0.5760892190036524 MAE: 0.542763247122053 max_error: 3.71602779038178 explained_variance: 0.8056872953056886 \n",
            "Rollback\n",
            "Create new mask\n",
            "\n",
            "Weights was 314722.0 dropped: 26228\n",
            "loss: 0.745181443611691 R2: 0.8126969411467668 MSE: 0.5552953839032038 MAE: 0.5384532334554631 max_error: 3.2203844940503643 explained_variance: 0.8135709378429093 \n",
            "loss: 0.7445932717101478 R2: 0.8129925011611834 MSE: 0.5544191402760219 MAE: 0.5374150214779669 max_error: 3.121859928883481 explained_variance: 0.8137132682910372 \n",
            "loss: 0.751433265140251 R2: 0.8095409382911984 MSE: 0.5646519519593387 MAE: 0.5509554771928328 max_error: 3.2145245612405446 explained_variance: 0.8105204048393618 \n",
            "loss: 0.7629660259720705 R2: 0.8036498641301992 MSE: 0.5821171567876143 MAE: 0.5473971368844346 max_error: 3.642475658728948 explained_variance: 0.8040393548151552 \n",
            "loss: 0.7601747652216292 R2: 0.8050839041273747 MSE: 0.577865673679759 MAE: 0.5419696643041121 max_error: 3.445993750879143 explained_variance: 0.8056329888426051 \n",
            "Rollback\n",
            "Create new mask\n",
            "\n",
            "Weights was 288494.0 dropped: 26336\n",
            "loss: 0.7470758861975678 R2: 0.8117433856472082 MSE: 0.5581223797378813 MAE: 0.5395945852941904 max_error: 3.1950082476824266 explained_variance: 0.8122464445068035 \n",
            "loss: 0.7462440384737359 R2: 0.8121623890008209 MSE: 0.5568801649575906 MAE: 0.5408667140902153 max_error: 3.170148035801816 explained_variance: 0.8129059619213101 \n",
            "loss: 0.7521398515906129 R2: 0.8091825856053692 MSE: 0.565714356350749 MAE: 0.5513547970905869 max_error: 3.242921525313726 explained_variance: 0.8104043764512037 \n",
            "loss: 0.7621653406261145 R2: 0.8040617623736614 MSE: 0.5808960064517211 MAE: 0.5454421553418163 max_error: 3.735277229621282 explained_variance: 0.8049597074670589 \n",
            "loss: 0.7594655693248434 R2: 0.8054474237283944 MSE: 0.5767879509899085 MAE: 0.5417812202655948 max_error: 3.3487298186510546 explained_variance: 0.8063312095789645 \n",
            "\n",
            "Weights was 288386.0 dropped: 13114\n",
            "loss: 0.7516614288107869 R2: 0.8094252595262464 MSE: 0.5649949035618737 MAE: 0.5390353756471782 max_error: 3.204280868752818 explained_variance: 0.8098158926717226 \n",
            "loss: 0.7486399457134812 R2: 0.8109543017657596 MSE: 0.5604617683178842 MAE: 0.5418504973208293 max_error: 3.1230682671807912 explained_variance: 0.8113632655935201 \n",
            "loss: 0.7524025968775585 R2: 0.8090492456865428 MSE: 0.5661096677880939 MAE: 0.5481709063881582 max_error: 3.2584765494607595 explained_variance: 0.8100561740846478 \n",
            "loss: 0.7632987794977946 R2: 0.8034785578194323 MSE: 0.5826250267828228 MAE: 0.5490649883780797 max_error: 3.7692540229104665 explained_variance: 0.8052486982185267 \n",
            "loss: 0.760652571842066 R2: 0.8048387987270194 MSE: 0.5785923350499493 MAE: 0.5438127579497194 max_error: 3.485708206483696 explained_variance: 0.806098564344446 \n",
            "Rollback\n",
            "Create new mask\n",
            "\n",
            "Weights was 275272.0 dropped: 13295\n",
            "loss: 0.7516614288107869 R2: 0.8094252595262464 MSE: 0.5649949035618737 MAE: 0.5390353756471782 max_error: 3.204280868752818 explained_variance: 0.8098158926717226 \n",
            "loss: 0.7486399457134812 R2: 0.8109543017657596 MSE: 0.5604617683178842 MAE: 0.5418504973208293 max_error: 3.1230682671807912 explained_variance: 0.8113632655935201 \n",
            "loss: 0.7524025968775585 R2: 0.8090492456865428 MSE: 0.5661096677880939 MAE: 0.5481709063881582 max_error: 3.2584765494607595 explained_variance: 0.8100561740846478 \n",
            "loss: 0.7632987794977946 R2: 0.8034785578194323 MSE: 0.5826250267828228 MAE: 0.5490649883780797 max_error: 3.7692540229104665 explained_variance: 0.8052486982185267 \n",
            "loss: 0.760652571842066 R2: 0.8048387987270194 MSE: 0.5785923350499493 MAE: 0.5438127579497194 max_error: 3.485708206483696 explained_variance: 0.806098564344446 \n",
            "Weights on start 2098176, weights after fit 275091.0, weights dropped 1823085.0\n"
          ]
        }
      ],
      "source": [
        "history = prun.fit(20, 5000, metrics)"
      ]
    },
    {
      "cell_type": "code",
      "source": [
        "logs_df = pd.DataFrame(history, columns=metrics.keys())\n",
        "fig, axs = plt.subplots(\n",
        "    nrows=2, ncols=3,\n",
        "    figsize=(20, 15)\n",
        ")\n",
        "\n",
        "counter = 0\n",
        "\n",
        "column = logs_df.columns\n",
        "\n",
        "\n",
        "for i in range(2):\n",
        "  for j in range(3):\n",
        "    sns.lineplot(x=logs_df.index, y = logs_df[column[counter]], ax=axs[i][j])\n",
        "    axs[i][j].set_title(column[counter])\n",
        "    axs[i][j].set_ylabel('')\n",
        "    if i == 0:\n",
        "      axs[i][j].xaxis.set_major_locator(ticker.NullLocator())\n",
        "    counter += 1\n",
        "\n",
        "\n",
        "plt.tight_layout()\n",
        "plt.show()"
      ],
      "metadata": {
        "colab": {
          "base_uri": "https://localhost:8080/",
          "height": 1000
        },
        "id": "eUsFcgc0qk_q",
        "outputId": "5f8c6752-4e59-494b-e12f-9203ca77b1e3"
      },
      "execution_count": 40,
      "outputs": [
        {
          "output_type": "display_data",
          "data": {
            "text/plain": [
              "<Figure size 1440x1080 with 6 Axes>"
            ],
            "image/png": "[encoded data removed]"
          },
          "metadata": {
            "needs_background": "light"
          }
        }
      ]
    },
    {
      "cell_type": "markdown",
      "source": [
        "Зміна метрик\n"
      ],
      "metadata": {
        "id": "YO46ZSB30lKD"
      }
    },
    {
      "cell_type": "markdown",
      "source": [
        "Числове відхилення"
      ],
      "metadata": {
        "id": "SlByItChKTH4"
      }
    },
    {
      "cell_type": "code",
      "source": [
        "logs_df.iloc[-1] - logs_df.iloc[0]"
      ],
      "metadata": {
        "colab": {
          "base_uri": "https://localhost:8080/"
        },
        "id": "3KcXp3RHKSQo",
        "outputId": "b7cee896-8172-4bf4-c477-8e18b3da7816"
      },
      "execution_count": 47,
      "outputs": [
        {
          "output_type": "execute_result",
          "data": {
            "text/plain": [
              "loss                 -0.040\n",
              "R2                    0.021\n",
              "MSE                  -0.062\n",
              "MAE                  -0.025\n",
              "max_error            -0.124\n",
              "explained_variance    0.020\n",
              "dtype: float64"
            ]
          },
          "metadata": {},
          "execution_count": 47
        }
      ]
    },
    {
      "cell_type": "markdown",
      "source": [
        "Відсоткова відхилення"
      ],
      "metadata": {
        "id": "9r5RxvwJKOGO"
      }
    },
    {
      "cell_type": "code",
      "source": [
        "(logs_df.iloc[-1] - logs_df.iloc[0]) / logs_df.iloc[0] * 100"
      ],
      "metadata": {
        "colab": {
          "base_uri": "https://localhost:8080/"
        },
        "id": "Mmnio_Dr20g9",
        "outputId": "a0a81b12-6681-49c5-dea1-cf628b717cd6"
      },
      "execution_count": 46,
      "outputs": [
        {
          "output_type": "execute_result",
          "data": {
            "text/plain": [
              "loss                 -5.081\n",
              "R2                    2.677\n",
              "MSE                  -9.918\n",
              "MAE                  -4.421\n",
              "max_error            -3.591\n",
              "explained_variance    2.597\n",
              "dtype: float64"
            ]
          },
          "metadata": {},
          "execution_count": 46
        }
      ]
    },
    {
      "cell_type": "markdown",
      "source": [
        "Зміна ваг"
      ],
      "metadata": {
        "id": "x4Ie9rjX1Oj1"
      }
    },
    {
      "cell_type": "code",
      "source": [
        "start_weights_count = prun.mask.get_neuron_count()\n",
        "finish_weights_count = prun.mask.get_undropped_neuron_count()\n",
        "weights_dropped = start_weights_count - finish_weights_count\n",
        "print(f'Start weights count: {start_weights_count}\\nFinish weights count: {finish_weights_count}\\nWeights dropped: {weights_dropped}')"
      ],
      "metadata": {
        "colab": {
          "base_uri": "https://localhost:8080/"
        },
        "id": "BX9uVVNI0v9U",
        "outputId": "c6adbe4b-a5df-45ff-f74d-19f7cabba810"
      },
      "execution_count": 44,
      "outputs": [
        {
          "output_type": "stream",
          "name": "stdout",
          "text": [
            "Start weights count: 2098176\n",
            "Finish weights count: 275091.0\n",
            "Weights dropped: 1823085.0\n"
          ]
        }
      ]
    }
  ]
}